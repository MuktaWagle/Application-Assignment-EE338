{
  "nbformat": 4,
  "nbformat_minor": 0,
  "metadata": {
    "colab": {
      "name": "Driver_score.ipynb",
      "provenance": []
    },
    "kernelspec": {
      "name": "python3",
      "display_name": "Python 3"
    }
  },
  "cells": [
    {
      "cell_type": "code",
      "metadata": {
        "id": "klnefdZcQAgE"
      },
      "source": [
        "import scipy\n",
        "from scipy.signal import periodogram\n",
        "import pandas as pd\n",
        "import numpy as np\n",
        "from scipy.integrate import simps\n",
        "from numpy import trapz\n",
        "import matplotlib.pyplot as plt"
      ],
      "execution_count": 1,
      "outputs": []
    },
    {
      "cell_type": "code",
      "metadata": {
        "id": "gjRUD_vwQLDi",
        "colab": {
          "base_uri": "https://localhost:8080/"
        },
        "outputId": "6bcfe8a5-7af4-40cd-d634-e8746d1a433c"
      },
      "source": [
        "from google.colab import drive\n",
        "drive.mount('/content/drive')"
      ],
      "execution_count": 2,
      "outputs": [
        {
          "output_type": "stream",
          "text": [
            "Mounted at /content/drive\n"
          ],
          "name": "stdout"
        }
      ]
    },
    {
      "cell_type": "code",
      "metadata": {
        "id": "ei4arNcPQOTF"
      },
      "source": [
        "def add_jerk(df):                     #function for adding the jerk column in the data\n",
        "  acc1 = df['accel_meters_ps']\n",
        "  acc2 = df['accel_meters_ps'].shift(periods=1, fill_value=0)\n",
        "  df['jerk'] = acc1 - acc2            #readings are spaced 1 sec apart so we have taken the difference directly \n",
        "  return df"
      ],
      "execution_count": 3,
      "outputs": []
    },
    {
      "cell_type": "code",
      "metadata": {
        "id": "R2wDXZbSQO5y"
      },
      "source": [
        "def delete_idle_period(df):     #to delete the zero velocity periods by making the time stamps continuos (natural numbers)\n",
        "  t = df['cycle_sec']\n",
        "  for i in range(len(t)):\n",
        "    df['cycle_sec'][i]=i\n",
        "  return df"
      ],
      "execution_count": 4,
      "outputs": []
    },
    {
      "cell_type": "code",
      "metadata": {
        "id": "mgfVOjXIQRzG"
      },
      "source": [
        "def scale(speed):             #scale speed by subtracting mean speed\n",
        "  avg_speed = np.average(speed)\n",
        "  speed_scaled = speed-avg_speed\n",
        "  return speed_scaled"
      ],
      "execution_count": 5,
      "outputs": []
    },
    {
      "cell_type": "code",
      "metadata": {
        "id": "UaaIpXQNQUug"
      },
      "source": [
        "def cutoff_freq(x,y):         # x = frequency  y = speed periodogram\n",
        "  r = trapz(y,x) * 0.99\n",
        "  i = 1\n",
        "  eps = 1\n",
        "  auc = 0\n",
        "  while r > auc:              #iteratively find the point at which 99% of the area under the curve is occpuied\n",
        "    auc = auc + (x[i]-x[i-1])*min(y[i],y[i-1]) + 0.5*(x[i]-x[i-1])*abs(y[i]-y[i-1])\n",
        "    i = i+1\n",
        "    if auc==r:\n",
        "      return i\n",
        "  return i-1"
      ],
      "execution_count": 6,
      "outputs": []
    },
    {
      "cell_type": "code",
      "metadata": {
        "id": "Kc-GznGOQa9j"
      },
      "source": [
        "def driver_score(x,y1,c):     # x = frequency y1= jerk periodogram c=cutoff frequency\n",
        "  lfj = trapz(y1[:c],x[:c])      \n",
        "  totalj = trapz(y1,x)\n",
        "  mean_pdj = np.mean(y1)\n",
        "  DA = (((totalj-lfj)/totalj)*mean_pdj) \n",
        "  return DA"
      ],
      "execution_count": 7,
      "outputs": []
    },
    {
      "cell_type": "code",
      "metadata": {
        "id": "VPLpD_BiQc7M"
      },
      "source": [
        "def get_score(df):\n",
        "  df = delete_idle_period(df)\n",
        "  df = add_jerk(df)\n",
        "  scaled = scale(df['speed_mph'])\n",
        "  f, Pxx_den = periodogram(scaled)\n",
        "  cf = cutoff_freq(f, Pxx_den)\n",
        "  f1, Pxx_den1 = periodogram(df['jerk'])\n",
        "  return driver_score(f1, Pxx_den1, cf)"
      ],
      "execution_count": 8,
      "outputs": []
    },
    {
      "cell_type": "code",
      "metadata": {
        "id": "SxNGl0CbRW5K",
        "colab": {
          "base_uri": "https://localhost:8080/"
        },
        "outputId": "93475e89-d2be-4b40-824f-cc7719b7276e"
      },
      "source": [
        "import os\n",
        "\n",
        "all_trips = []\n",
        "directory = '/content/drive/MyDrive/EC5_EE338' \n",
        "for filename in os.listdir(directory): \n",
        "  df = pd.read_csv('/content/drive/MyDrive/EC5_EE338/' + filename)\n",
        "  all_trips.append(df)  \n",
        "\n",
        "len(all_trips)"
      ],
      "execution_count": 9,
      "outputs": [
        {
          "output_type": "execute_result",
          "data": {
            "text/plain": [
              "100"
            ]
          },
          "metadata": {
            "tags": []
          },
          "execution_count": 9
        }
      ]
    },
    {
      "cell_type": "code",
      "metadata": {
        "id": "LSxbggQcdfAQ",
        "colab": {
          "base_uri": "https://localhost:8080/"
        },
        "outputId": "949378de-c005-4ddb-b92b-83efb133ee25"
      },
      "source": [
        "score = []\n",
        "power = []\n",
        "for trip in all_trips: \n",
        "  avg_power = np.mean(trip['TotalPowerPositive_W'])/np.mean(trip['kmTravelled'])\n",
        "  coeff = get_score(trip) \n",
        "  power.append(avg_power)\n",
        "  score.append(coeff)"
      ],
      "execution_count": 10,
      "outputs": [
        {
          "output_type": "stream",
          "text": [
            "/usr/local/lib/python3.6/dist-packages/ipykernel_launcher.py:4: SettingWithCopyWarning: \n",
            "A value is trying to be set on a copy of a slice from a DataFrame\n",
            "\n",
            "See the caveats in the documentation: https://pandas.pydata.org/pandas-docs/stable/user_guide/indexing.html#returning-a-view-versus-a-copy\n",
            "  after removing the cwd from sys.path.\n"
          ],
          "name": "stderr"
        }
      ]
    },
    {
      "cell_type": "code",
      "metadata": {
        "id": "bKj66fJfggUs",
        "colab": {
          "base_uri": "https://localhost:8080/",
          "height": 295
        },
        "outputId": "956d8d74-c644-40da-cfb4-07fcad0460b3"
      },
      "source": [
        "plt.scatter(power, score, alpha=0.5)  #we should observe a positive correlation between mean power per km and driver score\n",
        "plt.title('Avg kW per km v/s Score')\n",
        "plt.xlabel('Avg kW per km')\n",
        "plt.ylabel('DA Score')\n",
        "#plt.xlim((0,500))\n",
        "#plt.ylim((0,500))\n",
        "plt.show()"
      ],
      "execution_count": 11,
      "outputs": [
        {
          "output_type": "display_data",
          "data": {
            "image/png": "[encoded data removed]",
            "text/plain": [
              "<Figure size 432x288 with 1 Axes>"
            ]
          },
          "metadata": {
            "tags": [],
            "needs_background": "light"
          }
        }
      ]
    },
    {
      "cell_type": "markdown",
      "metadata": {
        "id": "ZXB1bZcnQFUQ"
      },
      "source": [
        "Clustering the drive cycles by duration and mean speed"
      ]
    },
    {
      "cell_type": "code",
      "metadata": {
        "id": "m3SzFegm_TeY"
      },
      "source": [
        "from sklearn.datasets import make_blobs\n",
        "from sklearn.cluster import KMeans\n",
        "from sklearn.metrics import silhouette_score\n",
        "from sklearn.preprocessing import StandardScaler"
      ],
      "execution_count": 12,
      "outputs": []
    },
    {
      "cell_type": "code",
      "metadata": {
        "id": "6x5oCd_LAf9V"
      },
      "source": [
        "clust = []\n",
        "for trip in all_trips:\n",
        "  clust.append((len(trip),np.mean(trip['speed_SI'])))"
      ],
      "execution_count": 13,
      "outputs": []
    },
    {
      "cell_type": "code",
      "metadata": {
        "id": "GUXOJomFBCP9"
      },
      "source": [
        "scaler = StandardScaler()\n",
        "scaled_features = scaler.fit_transform(clust)"
      ],
      "execution_count": 14,
      "outputs": []
    },
    {
      "cell_type": "code",
      "metadata": {
        "id": "_jzpgdzuB_hV"
      },
      "source": [
        "kmeans = KMeans(\n",
        "    init=\"random\",\n",
        "    n_clusters=6,\n",
        "    n_init=10,\n",
        "    max_iter=300,\n",
        "    random_state=42\n",
        "    )"
      ],
      "execution_count": 15,
      "outputs": []
    },
    {
      "cell_type": "code",
      "metadata": {
        "colab": {
          "base_uri": "https://localhost:8080/"
        },
        "id": "C1byNndkCZBp",
        "outputId": "aa1f8ef2-2450-4cb6-b3ad-e6aa927bb3b1"
      },
      "source": [
        "kmeans.fit(scaled_features)"
      ],
      "execution_count": 16,
      "outputs": [
        {
          "output_type": "execute_result",
          "data": {
            "text/plain": [
              "KMeans(algorithm='auto', copy_x=True, init='random', max_iter=300, n_clusters=6,\n",
              "       n_init=10, n_jobs=None, precompute_distances='auto', random_state=42,\n",
              "       tol=0.0001, verbose=0)"
            ]
          },
          "metadata": {
            "tags": []
          },
          "execution_count": 16
        }
      ]
    },
    {
      "cell_type": "code",
      "metadata": {
        "colab": {
          "base_uri": "https://localhost:8080/"
        },
        "id": "0Yjyc_DnCe6U",
        "outputId": "861154a1-db87-48b8-9cd5-e340d8477e3a"
      },
      "source": [
        "kmeans.inertia_"
      ],
      "execution_count": 17,
      "outputs": [
        {
          "output_type": "execute_result",
          "data": {
            "text/plain": [
              "33.92963624640187"
            ]
          },
          "metadata": {
            "tags": []
          },
          "execution_count": 17
        }
      ]
    },
    {
      "cell_type": "code",
      "metadata": {
        "colab": {
          "base_uri": "https://localhost:8080/"
        },
        "id": "d4HjvM7aF1NO",
        "outputId": "8cf5a64f-e4d1-4c08-b8e5-40aee02a51a4"
      },
      "source": [
        "labl = kmeans.labels_\n",
        "labl"
      ],
      "execution_count": 18,
      "outputs": [
        {
          "output_type": "execute_result",
          "data": {
            "text/plain": [
              "array([4, 5, 3, 5, 4, 0, 4, 5, 4, 0, 3, 1, 4, 2, 2, 3, 2, 1, 3, 3, 3, 4,\n",
              "       5, 5, 5, 5, 5, 2, 2, 0, 4, 4, 4, 0, 0, 5, 1, 3, 1, 4, 4, 4, 2, 1,\n",
              "       5, 2, 3, 4, 4, 3, 5, 3, 1, 4, 5, 2, 4, 4, 2, 4, 1, 1, 5, 2, 4, 1,\n",
              "       2, 5, 4, 1, 1, 5, 4, 4, 3, 4, 4, 5, 1, 4, 5, 5, 1, 5, 4, 2, 0, 0,\n",
              "       5, 2, 5, 2, 5, 4, 5, 5, 3, 4, 0, 5], dtype=int32)"
            ]
          },
          "metadata": {
            "tags": []
          },
          "execution_count": 18
        }
      ]
    },
    {
      "cell_type": "code",
      "metadata": {
        "colab": {
          "base_uri": "https://localhost:8080/",
          "height": 265
        },
        "id": "LCi5WQSPD8X-",
        "outputId": "d6bf41f1-e812-43d7-ab8d-835e251740ea"
      },
      "source": [
        "plt.scatter(*zip(*clust))\n",
        "plt.show()"
      ],
      "execution_count": 19,
      "outputs": [
        {
          "output_type": "display_data",
          "data": {
            "image/png": "[encoded data removed]",
            "text/plain": [
              "<Figure size 432x288 with 1 Axes>"
            ]
          },
          "metadata": {
            "tags": [],
            "needs_background": "light"
          }
        }
      ]
    },
    {
      "cell_type": "code",
      "metadata": {
        "id": "oWlwNThXHkI6"
      },
      "source": [
        "avg_speed = []\n",
        "duration = []\n",
        "for trip in all_trips:\n",
        "  duration.append(len(trip))\n",
        "  avg_speed.append(np.mean(trip['speed_SI']))\n",
        "\n",
        "pltdf = pd.DataFrame(dict(duration=np.array(duration), speed = np.array(avg_speed), labels = labl))"
      ],
      "execution_count": 20,
      "outputs": []
    },
    {
      "cell_type": "code",
      "metadata": {
        "colab": {
          "base_uri": "https://localhost:8080/",
          "height": 265
        },
        "id": "-KriQzBdFrAZ",
        "outputId": "138d3e3e-34a2-4323-a730-dfb8f670a451"
      },
      "source": [
        "fig, ax = plt.subplots()\n",
        "colors = {0:'tomato', 1:'lightgreen', 2:'darkblue', 3:'gold', 4:'brown', 5: 'fuchsia'}\n",
        "ax.scatter(pltdf['duration'],pltdf['speed'], c=pltdf['labels'].map(colors))\n",
        "plt.show()"
      ],
      "execution_count": 21,
      "outputs": [
        {
          "output_type": "display_data",
          "data": {
            "image/png": "[encoded data removed]",
            "text/plain": [
              "<Figure size 432x288 with 1 Axes>"
            ]
          },
          "metadata": {
            "tags": [],
            "needs_background": "light"
          }
        }
      ]
    },
    {
      "cell_type": "markdown",
      "metadata": {
        "id": "YxulJ6s4Jxse"
      },
      "source": [
        "Clustered cycles - 6 types of road conditions (duration is included for completeness of information, it does not decide the recommendation level)\n",
        "\n",
        "Low average speed indicates congested roads - So for a driver with a high aggressiveness score belonging to orange or green cluster will be given light recommendations; pink, blue or brown will be given medium strength recommendations and yellow will be given strong recommendations."
      ]
    }
  ]
}